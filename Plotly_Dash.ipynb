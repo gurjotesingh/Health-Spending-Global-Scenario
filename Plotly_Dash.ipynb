{
  "nbformat": 4,
  "nbformat_minor": 0,
  "metadata": {
    "colab": {
      "name": "Plotly Dash.ipynb",
      "provenance": []
    },
    "kernelspec": {
      "name": "python3",
      "display_name": "Python 3"
    },
    "language_info": {
      "name": "python"
    }
  },
  "cells": [
    {
      "cell_type": "code",
      "metadata": {
        "id": "5D6ExTtQT7vE"
      },
      "source": [
        "import pandas as pd\n",
        "import plotly.express as px  # (version 4.7.0)\n",
        "import plotly.graph_objects as go\n",
        "\n",
        "!pip install dash\n",
        "import dash\n",
        "import dash_core_components as dcc\n",
        "import dash_html_components as html\n",
        "from dash.dependencies import Input, Output\n"
      ],
      "execution_count": null,
      "outputs": []
    },
    {
      "cell_type": "code",
      "metadata": {
        "id": "tWa-_ZRMUR6z"
      },
      "source": [
        "app = dash.Dash(__name__)"
      ],
      "execution_count": 5,
      "outputs": []
    },
    {
      "cell_type": "code",
      "metadata": {
        "colab": {
          "base_uri": "https://localhost:8080/",
          "height": 419
        },
        "id": "0ga18E4bUe6x",
        "outputId": "931032b4-e84b-496e-bc0e-64ea2e7f8186"
      },
      "source": [
        "df=pd.read_csv('DP_LIVE_18102020154144776 (1).csv')\n",
        "df.head()\n",
        "df=df[df.TIME.isin(['2015','2016','2017','2018','2019'])]\n",
        "df"
      ],
      "execution_count": 51,
      "outputs": [
        {
          "output_type": "execute_result",
          "data": {
            "text/html": [
              "<div>\n",
              "<style scoped>\n",
              "    .dataframe tbody tr th:only-of-type {\n",
              "        vertical-align: middle;\n",
              "    }\n",
              "\n",
              "    .dataframe tbody tr th {\n",
              "        vertical-align: top;\n",
              "    }\n",
              "\n",
              "    .dataframe thead th {\n",
              "        text-align: right;\n",
              "    }\n",
              "</style>\n",
              "<table border=\"1\" class=\"dataframe\">\n",
              "  <thead>\n",
              "    <tr style=\"text-align: right;\">\n",
              "      <th></th>\n",
              "      <th>LOCATION</th>\n",
              "      <th>INDICATOR</th>\n",
              "      <th>SUBJECT</th>\n",
              "      <th>MEASURE</th>\n",
              "      <th>FREQUENCY</th>\n",
              "      <th>TIME</th>\n",
              "      <th>Value</th>\n",
              "      <th>Flag Codes</th>\n",
              "    </tr>\n",
              "  </thead>\n",
              "  <tbody>\n",
              "    <tr>\n",
              "      <th>44</th>\n",
              "      <td>AUS</td>\n",
              "      <td>HEALTHEXP</td>\n",
              "      <td>TOT</td>\n",
              "      <td>PC_GDP</td>\n",
              "      <td>A</td>\n",
              "      <td>2015</td>\n",
              "      <td>9.323</td>\n",
              "      <td>D</td>\n",
              "    </tr>\n",
              "    <tr>\n",
              "      <th>45</th>\n",
              "      <td>AUS</td>\n",
              "      <td>HEALTHEXP</td>\n",
              "      <td>TOT</td>\n",
              "      <td>PC_GDP</td>\n",
              "      <td>A</td>\n",
              "      <td>2016</td>\n",
              "      <td>9.201</td>\n",
              "      <td>D</td>\n",
              "    </tr>\n",
              "    <tr>\n",
              "      <th>46</th>\n",
              "      <td>AUS</td>\n",
              "      <td>HEALTHEXP</td>\n",
              "      <td>TOT</td>\n",
              "      <td>PC_GDP</td>\n",
              "      <td>A</td>\n",
              "      <td>2017</td>\n",
              "      <td>9.205</td>\n",
              "      <td>D</td>\n",
              "    </tr>\n",
              "    <tr>\n",
              "      <th>47</th>\n",
              "      <td>AUS</td>\n",
              "      <td>HEALTHEXP</td>\n",
              "      <td>TOT</td>\n",
              "      <td>PC_GDP</td>\n",
              "      <td>A</td>\n",
              "      <td>2018</td>\n",
              "      <td>9.285</td>\n",
              "      <td>E</td>\n",
              "    </tr>\n",
              "    <tr>\n",
              "      <th>48</th>\n",
              "      <td>AUS</td>\n",
              "      <td>HEALTHEXP</td>\n",
              "      <td>TOT</td>\n",
              "      <td>PC_GDP</td>\n",
              "      <td>A</td>\n",
              "      <td>2019</td>\n",
              "      <td>9.334</td>\n",
              "      <td>E</td>\n",
              "    </tr>\n",
              "    <tr>\n",
              "      <th>...</th>\n",
              "      <td>...</td>\n",
              "      <td>...</td>\n",
              "      <td>...</td>\n",
              "      <td>...</td>\n",
              "      <td>...</td>\n",
              "      <td>...</td>\n",
              "      <td>...</td>\n",
              "      <td>...</td>\n",
              "    </tr>\n",
              "    <tr>\n",
              "      <th>16678</th>\n",
              "      <td>SRB</td>\n",
              "      <td>HEALTHEXP</td>\n",
              "      <td>COMPULSORY</td>\n",
              "      <td>PC_GDP</td>\n",
              "      <td>A</td>\n",
              "      <td>2017</td>\n",
              "      <td>4.792</td>\n",
              "      <td>NaN</td>\n",
              "    </tr>\n",
              "    <tr>\n",
              "      <th>16679</th>\n",
              "      <td>SRB</td>\n",
              "      <td>HEALTHEXP</td>\n",
              "      <td>VOLUNTARY</td>\n",
              "      <td>PC_GDP</td>\n",
              "      <td>A</td>\n",
              "      <td>2017</td>\n",
              "      <td>3.642</td>\n",
              "      <td>NaN</td>\n",
              "    </tr>\n",
              "    <tr>\n",
              "      <th>16680</th>\n",
              "      <td>SRB</td>\n",
              "      <td>HEALTHEXP</td>\n",
              "      <td>OOPEXP</td>\n",
              "      <td>PC_HEALTHXP</td>\n",
              "      <td>A</td>\n",
              "      <td>2017</td>\n",
              "      <td>41.752</td>\n",
              "      <td>NaN</td>\n",
              "    </tr>\n",
              "    <tr>\n",
              "      <th>16681</th>\n",
              "      <td>SRB</td>\n",
              "      <td>HEALTHEXP</td>\n",
              "      <td>COMPULSORY</td>\n",
              "      <td>PC_HEALTHXP</td>\n",
              "      <td>A</td>\n",
              "      <td>2017</td>\n",
              "      <td>56.815</td>\n",
              "      <td>NaN</td>\n",
              "    </tr>\n",
              "    <tr>\n",
              "      <th>16682</th>\n",
              "      <td>SRB</td>\n",
              "      <td>HEALTHEXP</td>\n",
              "      <td>VOLUNTARY</td>\n",
              "      <td>PC_HEALTHXP</td>\n",
              "      <td>A</td>\n",
              "      <td>2017</td>\n",
              "      <td>43.185</td>\n",
              "      <td>NaN</td>\n",
              "    </tr>\n",
              "  </tbody>\n",
              "</table>\n",
              "<p>2442 rows × 8 columns</p>\n",
              "</div>"
            ],
            "text/plain": [
              "      LOCATION  INDICATOR     SUBJECT  ...  TIME   Value  Flag Codes\n",
              "44         AUS  HEALTHEXP         TOT  ...  2015   9.323           D\n",
              "45         AUS  HEALTHEXP         TOT  ...  2016   9.201           D\n",
              "46         AUS  HEALTHEXP         TOT  ...  2017   9.205           D\n",
              "47         AUS  HEALTHEXP         TOT  ...  2018   9.285           E\n",
              "48         AUS  HEALTHEXP         TOT  ...  2019   9.334           E\n",
              "...        ...        ...         ...  ...   ...     ...         ...\n",
              "16678      SRB  HEALTHEXP  COMPULSORY  ...  2017   4.792         NaN\n",
              "16679      SRB  HEALTHEXP   VOLUNTARY  ...  2017   3.642         NaN\n",
              "16680      SRB  HEALTHEXP      OOPEXP  ...  2017  41.752         NaN\n",
              "16681      SRB  HEALTHEXP  COMPULSORY  ...  2017  56.815         NaN\n",
              "16682      SRB  HEALTHEXP   VOLUNTARY  ...  2017  43.185         NaN\n",
              "\n",
              "[2442 rows x 8 columns]"
            ]
          },
          "metadata": {
            "tags": []
          },
          "execution_count": 51
        }
      ]
    },
    {
      "cell_type": "code",
      "metadata": {
        "colab": {
          "base_uri": "https://localhost:8080/"
        },
        "id": "ufnUlSTZcGu7",
        "outputId": "749ef97a-d6cc-41f5-d961-a93e24911332"
      },
      "source": [
        "df['TIME'].unique()"
      ],
      "execution_count": 47,
      "outputs": [
        {
          "output_type": "execute_result",
          "data": {
            "text/plain": [
              "array([2015, 2016, 2017, 2018, 2019])"
            ]
          },
          "metadata": {
            "tags": []
          },
          "execution_count": 47
        }
      ]
    },
    {
      "cell_type": "code",
      "metadata": {
        "colab": {
          "base_uri": "https://localhost:8080/"
        },
        "id": "7_L8PiRZfhdX",
        "outputId": "99a679f6-1bf5-4815-dbec-66eedaedcd38"
      },
      "source": [
        "df['SUBJECT'].unique()"
      ],
      "execution_count": 50,
      "outputs": [
        {
          "output_type": "execute_result",
          "data": {
            "text/plain": [
              "array(['TOT', 'OOPEXP', 'COMPULSORY', 'VOLUNTARY'], dtype=object)"
            ]
          },
          "metadata": {
            "tags": []
          },
          "execution_count": 50
        }
      ]
    },
    {
      "cell_type": "code",
      "metadata": {
        "id": "lBOV1taIajy4"
      },
      "source": [
        "app = dash.Dash(__name__)"
      ],
      "execution_count": 30,
      "outputs": []
    },
    {
      "cell_type": "code",
      "metadata": {
        "id": "wNBQohwebWaa"
      },
      "source": [
        "app.layout = html.Div([\n",
        "    html.H1(\"Health Spending - Global Scenario (2015-2019) \", style={'text-align': 'center'}),\n",
        "    dcc.Dropdown(id=\"select_year\",\n",
        "                 options=[\n",
        "                     {\"label\": \"2015\", \"value\": 2015},\n",
        "                     {\"label\": \"2016\", \"value\": 2016},\n",
        "                     {\"label\": \"2017\", \"value\": 2017},\n",
        "                     {\"label\": \"2018\", \"value\": 2018},\n",
        "                     {\"label\": \"2019\", \"value\": 2019}],\n",
        "                 multi=False,\n",
        "                 value=2015,\n",
        "                 style={'width': \"40%\"}\n",
        "                 ),\n",
        "\n",
        "    html.Div(id='output_container'), #Display text\n",
        "    html.Br(),\n",
        "    dcc.Dropdown(id=\"select_perspec\",\n",
        "                 options=[\n",
        "                     {\"label\": \"Total\", \"val\":'TOT'},\n",
        "                     {\"label\": \"Govt/Compulsory\", \"val\": 'COMPULSORY'},\n",
        "                     {\"label\": \"Voluntary\", \"val\": 'VOLUNTARY'},\n",
        "                     {\"label\": \"Out-of-Pocket\", \"val\": 'OOPEXP'},\n",
        "                     ],\n",
        "                 multi=False,\n",
        "                 value='TOT',\n",
        "                 style={'width': \"40%\"}\n",
        "                 ),\n",
        "  \n",
        "    html.Br(),\n",
        "    dcc.Graph(id='health_map', figure={})  #World Map\n",
        "\n",
        "    ])\n",
        "\n",
        "\n",
        "\n",
        "\n",
        "@app.callback(\n",
        "    [Output(component_id='output_container', component_property='contain'),\n",
        "     Output(component_id='health_map', component_property='figure')],\n",
        "    [Input(component_id='select_year', component_property='value'),\n",
        "    Input(component_id='select_perspec', component_property='val')])\n",
        "\n",
        "\n",
        "def update_graph(year, perspective):\n",
        "  container = \"The year chosen by user was: {}\".format(year)\n",
        "\n",
        "  dff = df.copy()\n",
        "  dff = dff[dff[\"TIME\"] == year]\n",
        "  dff = dff[dff[\"SUBJECT\"] == perspective]\n",
        "\n",
        "\n",
        "  fig = px.choropleth(\n",
        "        data_frame=dff,\n",
        "        locationmode='country names',\n",
        "        locations='LOCATION',\n",
        "        scope=\"world\",\n",
        "        color='Value',\n",
        "        hover_data=['LOCATION', 'Value'],\n",
        "        color_continuous_scale=px.colors.sequential.YlOrRd,\n",
        "        labels={'Value': 'Health Spending'},\n",
        "        template='plotly_dark'\n",
        "    )\n",
        "  \n",
        "  return container,fig\n"
      ],
      "execution_count": 54,
      "outputs": []
    },
    {
      "cell_type": "code",
      "metadata": {
        "colab": {
          "base_uri": "https://localhost:8080/"
        },
        "id": "s0g9Ck0VsJsM",
        "outputId": "13efc8c3-68af-4c55-c54a-9e975ebf13a7"
      },
      "source": [
        "if __name__ == '__main__':\n",
        "    app.run_server()\n"
      ],
      "execution_count": null,
      "outputs": [
        {
          "output_type": "stream",
          "text": [
            "Dash is running on http://127.0.0.1:8050/\n",
            "\n",
            "Dash is running on http://127.0.0.1:8050/\n",
            "\n",
            "Dash is running on http://127.0.0.1:8050/\n",
            "\n",
            " * Serving Flask app \"__main__\" (lazy loading)\n",
            " * Environment: production\n",
            "\u001b[31m   WARNING: This is a development server. Do not use it in a production deployment.\u001b[0m\n",
            "\u001b[2m   Use a production WSGI server instead.\u001b[0m\n",
            " * Debug mode: off\n"
          ],
          "name": "stdout"
        }
      ]
    },
    {
      "cell_type": "code",
      "metadata": {
        "id": "fcVW4oG6s9yo"
      },
      "source": [
        ""
      ],
      "execution_count": null,
      "outputs": []
    }
  ]
}